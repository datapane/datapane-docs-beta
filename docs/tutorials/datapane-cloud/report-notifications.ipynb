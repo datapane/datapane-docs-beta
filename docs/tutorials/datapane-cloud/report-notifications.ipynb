{
 "cells": [
  {
   "cell_type": "markdown",
   "id": "f16a9526-df31-4c34-a149-50a37093aa7c",
   "metadata": {},
   "source": [
    "# Report Notifications\n",
    "\n",
    "[:octicons-organization-16: Enterprise feature](){.org}\n",
    "\n",
    "Datapane allows you to share copies of your report via email. To use this, go to your Report Settings -> Email Recipients and enter your recipient email addresses. When you click 'Send Email Now' recipients will receive an email with a screenshot of the report plus a link back to the hosted report:&#x20;\n",
    "\n",
    "![](../../img/tutorials/report-notifications-1.png)\n",
    "\n",
    "!!! info\n",
    "    \n",
    "    Report notifications are the only way to share **private** reports on Datapane.com, but they can also be used to share **default** and **portfolio** reports.&#x20;\n",
    "\n",
    "## Scheduled Report Notifications\n",
    "\n",
    "[:octicons-organization-16: Enterprise feature](){.org}\n",
    "\n",
    "If you have a report that you need delivered to stakeholders regularly e.g. a weekly sales report, [Datapane Teams](https://datapane.com/teams/) allows you to email recipients each time the report is updated.&#x20;\n",
    "\n",
    "The mechanism is the same as for Community, except in addition to the 'Send Email Now' button, recipients will receive an email each time the report is updated.&#x20;\n",
    "\n",
    "To learn how to schedule a report to update, check out our section on scheduling:&#x20;\n",
    "\n",
    "\n",
    "[Scheduling](scheduling.ipynb){ .md-button }\n",
    "\n"
   ]
  }
 ],
 "metadata": {
  "kernelspec": {
   "display_name": "Python 3 (ipykernel)",
   "language": "python",
   "name": "python3"
  },
  "language_info": {
   "codemirror_mode": {
    "name": "ipython",
    "version": 3
   },
   "file_extension": ".py",
   "mimetype": "text/x-python",
   "name": "python",
   "nbconvert_exporter": "python",
   "pygments_lexer": "ipython3",
   "version": "3.10.4"
  }
 },
 "nbformat": 4,
 "nbformat_minor": 5
}
