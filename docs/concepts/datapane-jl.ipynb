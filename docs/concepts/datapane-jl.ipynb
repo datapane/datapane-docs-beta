{
 "cells": [
  {
   "cell_type": "markdown",
   "id": "c8264b6e-9107-419f-b3e2-efa36d040f99",
   "metadata": {
    "tags": [
     "test"
    ]
   },
   "source": [
    "# Datapane JL\n",
    "\n",
    "Testing report to image."
   ]
  },
  {
   "cell_type": "code",
   "execution_count": 1,
   "id": "3f8bfc5f-4626-4a0c-9c8e-ee280dbd2118",
   "metadata": {
    "tags": [
     "remove_all_output"
    ]
   },
   "outputs": [
    {
     "data": {
      "text/markdown": [
       "Report saved to ./emoji.html"
      ],
      "text/plain": [
       "<IPython.core.display.Markdown object>"
      ]
     },
     "metadata": {},
     "output_type": "display_data"
    }
   ],
   "source": [
    "import datapane as dp\n",
    "\n",
    "dp_report = dp.Report(\n",
    "    dp.Group(\n",
    "        dp.HTML(\"HTML block: 🚀\"),\n",
    "        dp.Text(\"Text block: 🚀\"),\n",
    "    )\n",
    ").save(path=\"emoji.html\")"
   ]
  },
  {
   "cell_type": "code",
   "execution_count": 3,
   "id": "63c3fead-f8cf-4ff1-8a17-65ee198d4278",
   "metadata": {
    "tags": [
     "remove_cell"
    ]
   },
   "outputs": [],
   "source": [
    "from dpdocsutils import previews\n",
    "previews.report_to_image('emoji.html', '../img/concepts/datapane-jl.png', 800,200)"
   ]
  },
  {
   "cell_type": "markdown",
   "id": "7db9f3f9-88fd-4197-87ee-823de9758069",
   "metadata": {},
   "source": [
    "![Screenshot](../img/concepts/datapane-jl.png)\n",
    "\n",
    "*Above: A Datapane report.*"
   ]
  }
 ],
 "metadata": {
  "kernelspec": {
   "display_name": "Python 3 (ipykernel)",
   "language": "python",
   "name": "python3"
  },
  "language_info": {
   "codemirror_mode": {
    "name": "ipython",
    "version": 3
   },
   "file_extension": ".py",
   "mimetype": "text/x-python",
   "name": "python",
   "nbconvert_exporter": "python",
   "pygments_lexer": "ipython3",
   "version": "3.10.4"
  }
 },
 "nbformat": 4,
 "nbformat_minor": 5
}
