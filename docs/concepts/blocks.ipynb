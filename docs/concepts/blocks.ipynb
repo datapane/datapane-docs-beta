{
 "cells": [
  {
   "cell_type": "markdown",
   "id": "db79bf04-493d-488a-87f8-a365995c1f49",
   "metadata": {},
   "source": [
    "# What are Blocks?\n",
    "\n",
    "Reports are comprised of multiple Blocks, which wrap up Python objects, such as Pandas DataFrames, Visualisations, and Markdown. Datapane also includes layout blocks to add tabs, pages, and interactive selects to your reports. \n",
    "\n",
    "We are always adding new components, and if you have some ideas on what you would like to use in your reports, please start a discussion on the [Datapane forum](https://forum.datapane.com).\n",
    "\n",
    "In this section we've grouped Blocks into Block types. Learn how to use them from our tutorials, and more detailed API usage can be found in our [API docs](https://datapane.github.io/datapane/report.html). \n",
    "\n",
    "## Block types\n",
    "\n",
    "- Tables and data\n",
    "- Plots and visualizations\n",
    "- Text and HTML\n",
    "- Layout and pages\n",
    "- Media and embeds\n",
    "\n",
    "Except for Page blocks, every block can be nested inside a layout block, meaning you can build arbitrarily complex reports. In addition, most blocks take optional `name` and `caption` parameters and display those to your viewers. \n",
    " \n",
    "## Default Block Handling\n",
    "\n",
    "As well as explicitly specifying your block type (for instance, by using `dp.Plot`), Datapane will try and choose the best block for your object if you pass it in directly, for instance as follows:\n",
    "\n",
    "\n",
    "\n"
   ]
  },
  {
   "cell_type": "code",
   "execution_count": 4,
   "id": "55b19298-aadb-44e4-8cd8-01c582785eda",
   "metadata": {
    "tags": [
     "remove_all_output"
    ]
   },
   "outputs": [
    {
     "data": {
      "text/markdown": [
       "Report saved to ./default_block_handling.html"
      ],
      "text/plain": [
       "<IPython.core.display.Markdown object>"
      ]
     },
     "metadata": {},
     "output_type": "display_data"
    }
   ],
   "source": [
    "import datapane as dp\n",
    "import pandas as pd\n",
    "\n",
    "d = {'col1': [1, 2], 'col2': [3, 4]}\n",
    "df = pd.DataFrame(data=d)\n",
    "\n",
    "report = dp.Report(\n",
    "  df,\n",
    "  \"This is text\"\n",
    ")\n",
    "\n",
    "report.save(\"default_block_handling.html\")"
   ]
  },
  {
   "cell_type": "code",
   "execution_count": 8,
   "id": "2329ddda-457a-4230-ad90-31a0fab7580f",
   "metadata": {
    "tags": [
     "remove_input"
    ]
   },
   "outputs": [
    {
     "data": {
      "text/html": [
       "\n",
       "        <iframe\n",
       "            width=\"100%\"\n",
       "            height=\"240\"\n",
       "            src=\"/concepts/default_block_handling.html\"\n",
       "            frameborder=\"0\"\n",
       "            allowfullscreen\n",
       "            \n",
       "        ></iframe>\n",
       "        "
      ],
      "text/plain": [
       "<IPython.lib.display.IFrame at 0x11fe33a30>"
      ]
     },
     "execution_count": 8,
     "metadata": {},
     "output_type": "execute_result"
    }
   ],
   "source": [
    "from IPython.display import IFrame\n",
    "IFrame('/concepts/default_block_handling.html', width=\"100%\", height=240)"
   ]
  },
  {
   "cell_type": "markdown",
   "id": "a748453d-8cd3-42c1-a53b-2c8ff1c2a633",
   "metadata": {},
   "source": [
    "&#x20;The defaults are as follows:\n",
    "\n",
    "| Object Type           | Datapane Block |\n",
    "| --------------------- | -------------- |\n",
    "| pandas DataFrame      | `dp.Table`     |\n",
    "| string                | `dp.Text`      |\n",
    "| Altair                | `dp.Plot`      |\n",
    "| Bokeh                 | `dp.Plot`      |\n",
    "| Folium                | `dp.Plot`      |\n",
    "| Matplotlib / Seaborn  | `dp.Plot`      |\n",
    "| Plotly                | `dp.Plot`      |\n",
    "| Plotapi               | `dp.Plot`      |"
   ]
  }
 ],
 "metadata": {
  "kernelspec": {
   "display_name": "Python 3 (ipykernel)",
   "language": "python",
   "name": "python3"
  },
  "language_info": {
   "codemirror_mode": {
    "name": "ipython",
    "version": 3
   },
   "file_extension": ".py",
   "mimetype": "text/x-python",
   "name": "python",
   "nbconvert_exporter": "python",
   "pygments_lexer": "ipython3",
   "version": "3.10.4"
  }
 },
 "nbformat": 4,
 "nbformat_minor": 5
}
