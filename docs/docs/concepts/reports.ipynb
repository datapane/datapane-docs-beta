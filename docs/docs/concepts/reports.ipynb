{
 "cells": [
  {
   "cell_type": "markdown",
   "id": "c73bdd65-db7c-4f25-a7d4-86bb88b619e7",
   "metadata": {},
   "source": [
    "# What is a Report?\n",
    "\n",
    "Reports wrap the results of your Python analyses, such as datasets and plots, into interactive documents which you can share.\n",
    "\n",
    "Here we can see a simple report consisting of a single text component:"
   ]
  },
  {
   "cell_type": "code",
   "execution_count": 1,
   "id": "c1fb71d6-2e09-4365-ba22-5fb1215a0f26",
   "metadata": {
    "tags": [
     "remove_all_output"
    ]
   },
   "outputs": [
    {
     "data": {
      "text/markdown": [
       "Report saved to ./empty_report.html"
      ],
      "text/plain": [
       "<IPython.core.display.Markdown object>"
      ]
     },
     "metadata": {},
     "output_type": "display_data"
    }
   ],
   "source": [
    "import datapane as dp\n",
    "\n",
    "report = dp.Report(\n",
    "    dp.Text(\"__My awesome markdown__\")\n",
    ")\n",
    "\n",
    "report.save(path='empty_report.html')"
   ]
  },
  {
   "cell_type": "code",
   "execution_count": 2,
   "id": "d91ebf6e-4644-43ca-a53b-fe06b2a9f241",
   "metadata": {
    "tags": [
     "remove_input"
    ]
   },
   "outputs": [
    {
     "data": {
      "text/html": [
       "\n",
       "        <iframe\n",
       "            width=\"100%\"\n",
       "            height=\"120\"\n",
       "            src=\"/concepts/empty_report.html\"\n",
       "            frameborder=\"0\"\n",
       "            allowfullscreen\n",
       "            \n",
       "        ></iframe>\n",
       "        "
      ],
      "text/plain": [
       "<IPython.lib.display.IFrame at 0x127d5e590>"
      ]
     },
     "execution_count": 2,
     "metadata": {},
     "output_type": "execute_result"
    }
   ],
   "source": [
    "from IPython.display import IFrame\n",
    "IFrame('/concepts/empty_report.html', width=\"100%\", height=120)"
   ]
  },
  {
   "cell_type": "markdown",
   "id": "21b1f59d-09b6-4389-942c-3a8a26ab30f2",
   "metadata": {},
   "source": [
    "For many Python data analyses, you only want to share a specific user-facing part of it rather than the whole code or notebook. This often is of the form of a standalone product that non-technical people can view directly from their existing tools - e.g. browsers, email, Slack, etc., and without the overhead and requirements of Python and Jupyter.\n",
    "\n",
    "Datapane allows you to programmatically create reports from the objects in your Python analyses, such as pandas DataFrames, plots from visualization libraries, and Markdown text. "
   ]
  }
 ],
 "metadata": {
  "kernelspec": {
   "display_name": "Python 3 (ipykernel)",
   "language": "python",
   "name": "python3"
  },
  "language_info": {
   "codemirror_mode": {
    "name": "ipython",
    "version": 3
   },
   "file_extension": ".py",
   "mimetype": "text/x-python",
   "name": "python",
   "nbconvert_exporter": "python",
   "pygments_lexer": "ipython3",
   "version": "3.10.4"
  }
 },
 "nbformat": 4,
 "nbformat_minor": 5
}
