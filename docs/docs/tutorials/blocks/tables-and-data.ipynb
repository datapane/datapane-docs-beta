{
 "cells": [
  {
   "cell_type": "markdown",
   "id": "f3f00877-88b6-4743-afc4-1a947ac764e5",
   "metadata": {},
   "source": [
    "# Tables, Data and Big Numbers\n",
    "\n",
    "Datapane has various blocks for adding datasets to your reports, from simple tables to interactive drilldowns.\n",
    "\n",
    "## Table\n",
    "\n",
    "The Table component takes a pandas DataFrame and renders an HTML table in your report.&#x20;"
   ]
  },
  {
   "cell_type": "code",
   "execution_count": 1,
   "id": "f6c74d7f-a361-44d9-9395-53eb5f184373",
   "metadata": {
    "execution": {
     "iopub.execute_input": "2022-07-06T16:26:43.732051Z",
     "iopub.status.busy": "2022-07-06T16:26:43.731843Z",
     "iopub.status.idle": "2022-07-06T16:26:45.144933Z",
     "shell.execute_reply": "2022-07-06T16:26:45.144653Z"
    },
    "tags": [
     "remove_all_output"
    ]
   },
   "outputs": [
    {
     "data": {
      "text/markdown": [
       "Report saved to ./table.html"
      ],
      "text/plain": [
       "<IPython.core.display.Markdown object>"
      ]
     },
     "metadata": {},
     "output_type": "display_data"
    }
   ],
   "source": [
    "import datapane as dp\n",
    "import pandas as pd\n",
    "import numpy as np\n",
    "\n",
    "df = pd.DataFrame(\n",
    "    {\n",
    "        \"A\": np.random.normal(-1, 1, 5),\n",
    "        \"B\": np.random.normal(1, 2, 5),\n",
    "    }\n",
    ")\n",
    "\n",
    "table = dp.Table(df)\n",
    "report = dp.Report(table)\n",
    "report.save(path=\"table.html\")"
   ]
  },
  {
   "cell_type": "code",
   "execution_count": 2,
   "id": "42826ee2-7b1d-4b7c-9a6e-b164830d9a9a",
   "metadata": {
    "execution": {
     "iopub.execute_input": "2022-07-06T16:26:45.146716Z",
     "iopub.status.busy": "2022-07-06T16:26:45.146559Z",
     "iopub.status.idle": "2022-07-06T16:26:46.467629Z",
     "shell.execute_reply": "2022-07-06T16:26:46.467336Z"
    },
    "tags": [
     "remove_input"
    ]
   },
   "outputs": [
    {
     "data": {
      "text/html": [
       "<a href=\"/tutorials/blocks/table.html\"><img src=\"/tutorials/blocks/table.png\"></a>"
      ],
      "text/plain": [
       "<IPython.core.display.HTML object>"
      ]
     },
     "metadata": {},
     "output_type": "display_data"
    }
   ],
   "source": [
    "from dpdocsutils import previews\n",
    "previews.embed_local_report('/tutorials/blocks/table.html', width=\"100%\", height=320)"
   ]
  },
  {
   "cell_type": "markdown",
   "id": "09c2d2e4-af15-4ac3-aa2b-b6796e5b9834",
   "metadata": {},
   "source": [
    "If your DataFrame includes [DataFrame Styles](https://pandas.pydata.org/pandas-docs/stable/user\\_guide/style.html), these will be included in your report. DataFrame styles allows you create custom formatted tables; for instance, to show trends, highlight cells, add bar charts, or display correlations.&#x20;"
   ]
  },
  {
   "cell_type": "code",
   "execution_count": 3,
   "id": "53046995-a518-427d-b633-628a20e18d10",
   "metadata": {
    "execution": {
     "iopub.execute_input": "2022-07-06T16:26:46.469318Z",
     "iopub.status.busy": "2022-07-06T16:26:46.469205Z",
     "iopub.status.idle": "2022-07-06T16:26:46.542311Z",
     "shell.execute_reply": "2022-07-06T16:26:46.542020Z"
    },
    "tags": [
     "remove_all_output"
    ]
   },
   "outputs": [
    {
     "name": "stderr",
     "output_type": "stream",
     "text": [
      "/Users/shahin/Documents/datapane-docs-beta/.venv/lib/python3.10/site-packages/datapane/client/api/files.py:133: FutureWarning: this method is deprecated in favour of `Styler.to_html()`\n",
      "  return obj.render()\n"
     ]
    },
    {
     "data": {
      "text/markdown": [
       "Report saved to ./table-style.html"
      ],
      "text/plain": [
       "<IPython.core.display.Markdown object>"
      ]
     },
     "metadata": {},
     "output_type": "display_data"
    }
   ],
   "source": [
    "import pandas as pd\n",
    "import datapane as dp\n",
    "import numpy as np\n",
    "\n",
    "df = pd.DataFrame({\"A\": np.linspace(1, 10, 10)})\n",
    "df = pd.concat([df, pd.DataFrame(np.random.randn(10, 4), columns=list(\"BCDE\"))], axis=1)\n",
    "\n",
    "report = dp.Report(\n",
    "    blocks=[df.style.background_gradient(cmap=\"viridis\")]\n",
    ")\n",
    "\n",
    "report.save(\"table-style.html\")"
   ]
  },
  {
   "cell_type": "code",
   "execution_count": 4,
   "id": "f4f4e12d-d762-4218-8f98-32b78a33479e",
   "metadata": {
    "execution": {
     "iopub.execute_input": "2022-07-06T16:26:46.544115Z",
     "iopub.status.busy": "2022-07-06T16:26:46.543996Z",
     "iopub.status.idle": "2022-07-06T16:26:47.803478Z",
     "shell.execute_reply": "2022-07-06T16:26:47.803164Z"
    },
    "tags": [
     "remove_input"
    ]
   },
   "outputs": [
    {
     "data": {
      "text/html": [
       "<a href=\"/tutorials/blocks/table-style.html\"><img src=\"/tutorials/blocks/table-style.png\"></a>"
      ],
      "text/plain": [
       "<IPython.core.display.HTML object>"
      ]
     },
     "metadata": {},
     "output_type": "display_data"
    }
   ],
   "source": [
    "from dpdocsutils import previews\n",
    "previews.embed_local_report('/tutorials/blocks/table-style.html', width=\"100%\", height=540)"
   ]
  },
  {
   "cell_type": "markdown",
   "id": "67078104-c09e-4931-b3d4-e566427a397c",
   "metadata": {},
   "source": [
    "!!! info\n",
    "\n",
    "    Table is the best option for displaying multidimensional DataFrames, as `DataTable` will flatten your data.\n",
    "\n",
    "\n",
    "## DataTable\n",
    "\n",
    "The DataTable block takes a pandas DataFrame and renders an interactive, sortable, searchable table in your report, along with advanced analysis options such as exploring data through [SandDance](https://www.microsoft.com/en-us/research/project/sanddance/). It supports large datasets and viewers can also download the table from the website as a CSV or Excel file.\n",
    "\n",
    "!!! info\n",
    "\n",
    "    DataTable works for reports uploaded to Datapane.com as well as locally saved reports."
   ]
  },
  {
   "cell_type": "code",
   "execution_count": 5,
   "id": "61fa442c-9b0f-4f86-a280-fdb0c87a7e53",
   "metadata": {
    "execution": {
     "iopub.execute_input": "2022-07-06T16:26:47.805317Z",
     "iopub.status.busy": "2022-07-06T16:26:47.805197Z",
     "iopub.status.idle": "2022-07-06T16:26:47.886887Z",
     "shell.execute_reply": "2022-07-06T16:26:47.886588Z"
    },
    "tags": [
     "remove_all_output"
    ]
   },
   "outputs": [
    {
     "data": {
      "text/markdown": [
       "Report saved to ./datatable.html"
      ],
      "text/plain": [
       "<IPython.core.display.Markdown object>"
      ]
     },
     "metadata": {},
     "output_type": "display_data"
    }
   ],
   "source": [
    "import datapane as dp\n",
    "import pandas as pd\n",
    "import numpy as np\n",
    "\n",
    "df = pd.DataFrame(\n",
    "    {\n",
    "        \"A\": np.random.normal(-1, 1, 5000),\n",
    "        \"B\": np.random.normal(1, 2, 5000),\n",
    "    }\n",
    ")\n",
    "\n",
    "table = dp.DataTable(df)\n",
    "report = dp.Report(table)\n",
    "report.save(path=\"datatable.html\")"
   ]
  },
  {
   "cell_type": "code",
   "execution_count": 6,
   "id": "8e066c62-6fb6-40c3-bcda-fb2c8a912f40",
   "metadata": {
    "execution": {
     "iopub.execute_input": "2022-07-06T16:26:47.888570Z",
     "iopub.status.busy": "2022-07-06T16:26:47.888460Z",
     "iopub.status.idle": "2022-07-06T16:26:49.342359Z",
     "shell.execute_reply": "2022-07-06T16:26:49.341900Z"
    },
    "tags": [
     "remove_input"
    ]
   },
   "outputs": [
    {
     "data": {
      "text/html": [
       "<a href=\"/tutorials/blocks/datatable.html\"><img src=\"/tutorials/blocks/datatable.png\"></a>"
      ],
      "text/plain": [
       "<IPython.core.display.HTML object>"
      ]
     },
     "metadata": {},
     "output_type": "display_data"
    }
   ],
   "source": [
    "from dpdocsutils import previews\n",
    "previews.embed_local_report('/tutorials/blocks/datatable.html', width=\"100%\", height=540)"
   ]
  },
  {
   "cell_type": "markdown",
   "id": "f53cf3d0-aa0a-40aa-9638-3b5aa345a4f4",
   "metadata": {},
   "source": [
    "### Running Queries on DataTable\n",
    "\n",
    "You can run SQL queries on your datatable if you need more advanced filtering & calculations. In the previous example, if we wanted to show only the rows which had a value A > 0.5, we would write the following (note that `$tbl` is the builtin table name and cannot be changed):  &#x20;\n",
    "\n",
    "```sql\n",
    "SELECT * FROM $tbl\n",
    "WHERE A > 0.5\n",
    "```\n",
    "\n",
    "## Python Dictionary & JSON&#x20;\n",
    "\n",
    "To include Python objects and JSON, we recommend using the `File` block.\n",
    "\n",
    "[Media and embeds](media-attachments-and-embeds.ipynb){ .md-button }\n",
    "\n",
    "## Big Number\n",
    "\n",
    "A single number or change can often be the most important thing in a report. The `BigNumber`component allows you to present KPIs, changes, and statistics in a friendly way to your viewers. You can optionally set intent, and pass in numbers or text.&#x20;\n",
    "\n",
    "For full reference on styling your number, see the [API Documentation](https://datapane.github.io/datapane/report.html#datapane.client.api.report.BigNumber)."
   ]
  },
  {
   "cell_type": "code",
   "execution_count": 7,
   "id": "229c72f6-f68b-4b2c-a248-7cd7dbe51b5e",
   "metadata": {
    "execution": {
     "iopub.execute_input": "2022-07-06T16:26:49.344618Z",
     "iopub.status.busy": "2022-07-06T16:26:49.344473Z",
     "iopub.status.idle": "2022-07-06T16:26:49.418531Z",
     "shell.execute_reply": "2022-07-06T16:26:49.418244Z"
    },
    "tags": [
     "remove_all_output"
    ]
   },
   "outputs": [
    {
     "data": {
      "text/markdown": [
       "Report saved to ./bignumber.html"
      ],
      "text/plain": [
       "<IPython.core.display.Markdown object>"
      ]
     },
     "metadata": {},
     "output_type": "display_data"
    }
   ],
   "source": [
    "import datapane as dp\n",
    "\n",
    "report = dp.Report(\n",
    "    dp.Group(\n",
    "        dp.BigNumber(\n",
    "            heading=\"Number of percentage points\",\n",
    "            value=\"84%\",\n",
    "            change=\"2%\",\n",
    "            is_upward_change=True,\n",
    "        ),\n",
    "        dp.BigNumber(heading=\"Simple Statistic\", value=100),\n",
    "        columns=2,\n",
    "    )\n",
    ")\n",
    "\n",
    "report.save(path=\"bignumber.html\")"
   ]
  },
  {
   "cell_type": "code",
   "execution_count": 8,
   "id": "df279e45-9fba-42a2-8a52-fb065f575712",
   "metadata": {
    "execution": {
     "iopub.execute_input": "2022-07-06T16:26:49.420141Z",
     "iopub.status.busy": "2022-07-06T16:26:49.420039Z",
     "iopub.status.idle": "2022-07-06T16:26:52.511935Z",
     "shell.execute_reply": "2022-07-06T16:26:52.511539Z"
    },
    "tags": [
     "remove_input"
    ]
   },
   "outputs": [
    {
     "data": {
      "text/html": [
       "<a href=\"/tutorials/blocks/bignumber.html\"><img src=\"/tutorials/blocks/bignumber.png\"></a>"
      ],
      "text/plain": [
       "<IPython.core.display.HTML object>"
      ]
     },
     "metadata": {},
     "output_type": "display_data"
    }
   ],
   "source": [
    "from dpdocsutils import previews\n",
    "previews.embed_local_report('/tutorials/blocks/bignumber.html', width=\"100%\", height=300)"
   ]
  }
 ],
 "metadata": {
  "kernelspec": {
   "display_name": "Python 3 (ipykernel)",
   "language": "python",
   "name": "python3"
  },
  "language_info": {
   "codemirror_mode": {
    "name": "ipython",
    "version": 3
   },
   "file_extension": ".py",
   "mimetype": "text/x-python",
   "name": "python",
   "nbconvert_exporter": "python",
   "pygments_lexer": "ipython3",
   "version": "3.10.4"
  }
 },
 "nbformat": 4,
 "nbformat_minor": 5
}
