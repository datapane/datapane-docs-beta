{
 "cells": [
  {
   "cell_type": "markdown",
   "id": "48de009d-f6a9-45a7-8d5f-c7751e1fb1d2",
   "metadata": {},
   "source": [
    "Datapane supports all major Python visualization libraries, allowing you to add interactive plots and visualizations to your report.\n",
    "\n",
    "# Plots and Visualizations\n",
    "\n",
    "The `dp.Plot` block takes a plot object from one of the supported Python visualisation libraries and renders it in your report. \n",
    "\n",
    "!!! info\n",
    "Datapane will automatically wrap your visualization or plot in a `dp.Plot` block if you pass it into your report directly.\n",
    "\n",
    "It takes the following parameters: \n",
    "\n",
    "* `name`: Sets the name of the chart within the caption\n",
    "* `caption` : Adds a caption beneath your plot\n",
    "* `responsive`:  Boolean \\(`True` by default\\) which controls whether the plot fills the block. Set to `False` if you want to manually specify the height and width within the plot object. "
   ]
  },
  {
   "cell_type": "markdown",
   "id": "d2ed026b-8507-4d22-8671-0d56188d99eb",
   "metadata": {},
   "source": [
    "```python\n",
    "dp.Plot(\n",
    "    fig, name=\"fig1\", caption=\"Chart showing average life expectancy\", responsive=False\n",
    ")\n",
    "```"
   ]
  },
  {
   "cell_type": "markdown",
   "id": "dc5497f6-96ce-4d2b-b19c-6851b27ae888",
   "metadata": {},
   "source": [
    "Datapane currently supports the following libraries:\n",
    "\n",
    "| Library | Site / Docs |\n",
    "| :--- | :--- |\n",
    "| Altair | [https://altair-viz.github.io/](https://altair-viz.github.io/) |\n",
    "| Matplotlib / Seaborn | [https://matplotlib.org/](https://matplotlib.org/) / [https://seaborn.pydata.org/](https://seaborn.pydata.org/) |\n",
    "| Bokeh | [https://bokeh.org/](https://bokeh.org/) |\n",
    "| Plotly | [https://plotly.com/python/](https://plotly.com/python/) |\n",
    "| Folium | [https://python-visualization.github.io/folium/](https://python-visualization.github.io/folium/) |\n",
    "| Plotapi | [https://plotapi.com](https://plotapi.com) |\n",
    "\n",
    "If you're using another visualization library e.g. Pyvis for networks, try saving your chart as a local HTML file and wrapping that in a [dp.HTML](text-code-and-html.md#html) block. \n",
    "\n",
    "## Altair\n",
    "\n",
    "[Altair](https://altair-viz.github.io/) is a declarative statistical visualization library for Python, based on [Vega](http://vega.github.io/vega) and [Vega-Lite](http://vega.github.io/vega-lite). Altair’s API is simple, friendly and consistent and built on top of the powerful [Vega-Lite](http://vega.github.io/vega-lite) visualization grammar. This elegant simplicity produces beautiful and effective visualizations with a minimal amount of code.\n",
    "\n",
    "To get started using Altair to make your visualizations, begin with Altair's [Documentation](https://altair-viz.github.io/)"
   ]
  },
  {
   "cell_type": "code",
   "execution_count": null,
   "id": "e244bf69-457f-4b3d-baf1-93c0761dc675",
   "metadata": {
    "tags": [
     "remove_all_output"
    ]
   },
   "outputs": [],
   "source": [
    "import altair as alt\n",
    "import datapane as dp\n",
    "import pandas as pd\n",
    "from vega_datasets import data as vega_data\n",
    "\n",
    "gap = pd.read_json(vega_data.gapminder.url)\n",
    "\n",
    "select_year = alt.selection_single(\n",
    "    name=\"select\",\n",
    "    fields=[\"year\"],\n",
    "    init={\"year\": 1955},\n",
    "    bind=alt.binding_range(min=1955, max=2005, step=5),\n",
    ")\n",
    "\n",
    "alt_chart = (\n",
    "    alt.Chart(gap)\n",
    "    .mark_point(filled=True)\n",
    "    .encode(\n",
    "        alt.X(\"fertility\", scale=alt.Scale(zero=False)),\n",
    "        alt.Y(\"life_expect\", scale=alt.Scale(zero=False)),\n",
    "        alt.Size(\"pop:Q\"),\n",
    "        alt.Color(\"cluster:N\"),\n",
    "        alt.Order(\"pop:Q\", sort=\"descending\"),\n",
    "    )\n",
    "    .add_selection(select_year)\n",
    "    .transform_filter(select_year)\n",
    ")\n",
    "\n",
    "dp.Report(dp.Plot(alt_chart)).save(path=\"altair-plot.html\")"
   ]
  },
  {
   "cell_type": "code",
   "execution_count": null,
   "id": "2daf56c5-d9d7-4143-8cdf-8f0a7e351cf4",
   "metadata": {},
   "outputs": [],
   "source": [
    "from IPython.display import IFrame\n",
    "IFrame('/tutorials/altair-plot.html', width=\"100%\", height=460)"
   ]
  },
  {
   "cell_type": "markdown",
   "id": "db01d440-85e9-4972-86b1-d86a0ea9d6f2",
   "metadata": {},
   "source": [
    "## Bokeh\n",
    "\n",
    "Bokeh is an interactive visualization library which provides elegant, concise construction of versatile graphics, and affords high-performance interactivity over large datasets. \n",
    "\n",
    "To get started using Bokeh to make your visualizations, begin with Bokeh's [User Guide](https://docs.bokeh.org/en/latest/docs/user_guide.html#userguide)."
   ]
  },
  {
   "cell_type": "code",
   "execution_count": null,
   "id": "d31c4b95-a104-4497-8107-846d49785adb",
   "metadata": {
    "tags": [
     "remove_all_output"
    ]
   },
   "outputs": [],
   "source": [
    "from bokeh.plotting import figure, output_file, show\n",
    "from bokeh.sampledata.iris import flowers\n",
    "import datapane as dp\n",
    "\n",
    "colormap = {\"setosa\": \"red\", \"versicolor\": \"green\", \"virginica\": \"blue\"}\n",
    "colors = [colormap[x] for x in flowers[\"species\"]]\n",
    "\n",
    "bokeh_chart = figure(title=\"Iris Morphology\")\n",
    "bokeh_chart.xaxis.axis_label = \"Petal Length\"\n",
    "bokeh_chart.yaxis.axis_label = \"Petal Width\"\n",
    "\n",
    "bokeh_chart.circle(\n",
    "    flowers[\"petal_length\"],\n",
    "    flowers[\"petal_width\"],\n",
    "    color=colors,\n",
    "    fill_alpha=0.2,\n",
    "    size=10,\n",
    ")\n",
    "\n",
    "dp.Report(dp.Plot(bokeh_chart)).save(path=\"bokeh-plot.html\")"
   ]
  },
  {
   "cell_type": "code",
   "execution_count": null,
   "id": "1e6497f0-c243-4976-bdd2-db8b0eeb6968",
   "metadata": {
    "tags": [
     "remove_input"
    ]
   },
   "outputs": [],
   "source": [
    "from IPython.display import IFrame\n",
    "IFrame('/tutorials/bokeh-plot.html', width=\"100%\", height=680)"
   ]
  },
  {
   "cell_type": "markdown",
   "id": "00bc3b23-9f47-415c-8e3a-cb65263ee2b2",
   "metadata": {},
   "source": [
    "## Matplotlib\n",
    "\n",
    "[Matplotlib](https://matplotlib.org) is the original Python visualisation library, often supported and used with [Jupyter Notebooks](https://jupyter.org/). Matplotlib plots are not interactive in Datapane Reports, but are saved as SVGs so can be viewed at high fidelity.\n",
    "\n",
    "Higher-level matplotlib libraries such as [Seaborn](https://seaborn.pydata.org/) are also supported, and can be used in a similar way to the matplotlib example below,"
   ]
  },
  {
   "cell_type": "code",
   "execution_count": null,
   "id": "01875e1f-642b-4c54-a7de-b7158ed3b4b4",
   "metadata": {
    "tags": [
     "remove_all_output"
    ]
   },
   "outputs": [],
   "source": [
    "import matplotlib.pyplot as plt\n",
    "import pandas as pd\n",
    "import datapane as dp\n",
    "from vega_datasets import data as vega_data\n",
    "\n",
    "gap = pd.read_json(vega_data.gapminder.url)\n",
    "fig = gap.plot.scatter(x=\"life_expect\", y=\"fertility\")\n",
    "\n",
    "dp.Report(dp.Plot(fig)).save(path=\"matplotlib-plot.html\")"
   ]
  },
  {
   "cell_type": "code",
   "execution_count": null,
   "id": "cc5aee48-b9e9-4088-82d1-e6a814ab853e",
   "metadata": {
    "tags": [
     "remove_input"
    ]
   },
   "outputs": [],
   "source": [
    "from IPython.display import IFrame\n",
    "IFrame('/tutorials/matplotlib-plot.html', width=\"100%\", height=580)"
   ]
  },
  {
   "cell_type": "markdown",
   "id": "afa84530-517e-4c8e-8e8e-45b5b611163d",
   "metadata": {},
   "source": [
    "!!! info\n",
    "    \n",
    "    You can pass either a `matplotlib` `Figure` or `Axes` object to `dp.Plot`,  you can obtain the current global figure from `matplotlib` by running `plt.gcf()`\n",
    "\n",
    "## Plotly\n",
    "\n",
    "[Plotly's Python graphing library](https://plotly.com/python/) makes interactive, publication-quality graphs."
   ]
  },
  {
   "cell_type": "code",
   "execution_count": 2,
   "id": "2e10ad58-2b76-4c09-990e-2d2751dae16b",
   "metadata": {
    "tags": [
     "remove_all_output"
    ]
   },
   "outputs": [
    {
     "data": {
      "text/markdown": [
       "Report saved to ./plotly-plot.html"
      ],
      "text/plain": [
       "<IPython.core.display.Markdown object>"
      ]
     },
     "metadata": {},
     "output_type": "display_data"
    }
   ],
   "source": [
    "import plotly.express as px\n",
    "import datapane as dp\n",
    "\n",
    "df = px.data.gapminder()\n",
    "\n",
    "plotly_chart = px.scatter(\n",
    "    df.query(\"year==2007\"),\n",
    "    x=\"gdpPercap\",\n",
    "    y=\"lifeExp\",\n",
    "    size=\"pop\",\n",
    "    color=\"continent\",\n",
    "    hover_name=\"country\",\n",
    "    log_x=True,\n",
    "    size_max=60,\n",
    ")\n",
    "\n",
    "dp.Report(dp.Plot(plotly_chart)).save(path=\"plotly-plot.html\")"
   ]
  },
  {
   "cell_type": "code",
   "execution_count": 6,
   "id": "d276f3ee-3e41-47ff-8049-04409d7c5aef",
   "metadata": {
    "tags": [
     "remove_input"
    ]
   },
   "outputs": [
    {
     "data": {
      "text/html": [
       "\n",
       "        <iframe\n",
       "            width=\"100%\"\n",
       "            height=\"520\"\n",
       "            src=\"/tutorials/plotly-plot.html\"\n",
       "            frameborder=\"0\"\n",
       "            allowfullscreen\n",
       "            \n",
       "        ></iframe>\n",
       "        "
      ],
      "text/plain": [
       "<IPython.lib.display.IFrame at 0x14c1728f0>"
      ]
     },
     "execution_count": 6,
     "metadata": {},
     "output_type": "execute_result"
    }
   ],
   "source": [
    "from IPython.display import IFrame\n",
    "IFrame('/tutorials/plotly-plot.html', width=\"100%\", height=520)"
   ]
  },
  {
   "cell_type": "markdown",
   "id": "b4d4db4d-d476-46e3-bd7a-aed82226e239",
   "metadata": {},
   "source": [
    "## Folium\n",
    "\n",
    "[Folium](https://python-visualization.github.io/folium/) makes it easy to visualize data that’s been manipulated in Python on an interactive leaflet map. It enables both the binding of data to a map for `choropleth` visualizations as well as passing rich vector/raster/HTML visualizations as markers on the map.\n",
    "\n",
    "The library has a number of built-in tilesets from OpenStreetMap, Mapbox, and Stamen, and supports custom tilesets with Mapbox or Cloudmade API keys. \n",
    "\n",
    "!!! info\n",
    "    \n",
    "    If your folium map consumes live data which expires after a certain time, you can automate it to refresh the map on a cadence. See [Automation](../automation-with-github-actions.md)."
   ]
  },
  {
   "cell_type": "code",
   "execution_count": 8,
   "id": "63415d62-9c0c-47c5-ae7b-623a8bbe9c49",
   "metadata": {
    "tags": [
     "remove_all_output"
    ]
   },
   "outputs": [
    {
     "data": {
      "text/markdown": [
       "Report saved to ./folium-plot.html"
      ],
      "text/plain": [
       "<IPython.core.display.Markdown object>"
      ]
     },
     "metadata": {},
     "output_type": "display_data"
    },
    {
     "data": {
      "text/markdown": [
       "How is your experience of Datapane? Please take two minutes to answer our anonymous product survey <a href='https://bit.ly/3lWjRlr' target='_blank'>here</a>"
      ],
      "text/plain": [
       "<IPython.core.display.Markdown object>"
      ]
     },
     "metadata": {},
     "output_type": "display_data"
    }
   ],
   "source": [
    "import folium\n",
    "import datapane as dp\n",
    "\n",
    "m = folium.Map(location=[45.5236, -122.6750])\n",
    "\n",
    "dp.Report(dp.Plot(m)).save(path=\"folium-plot.html\")"
   ]
  },
  {
   "cell_type": "code",
   "execution_count": 14,
   "id": "dc8d06ff-76ea-433d-83ae-8c52223041ca",
   "metadata": {
    "tags": [
     "remove_input"
    ]
   },
   "outputs": [
    {
     "data": {
      "text/html": [
       "\n",
       "        <iframe\n",
       "            width=\"100%\"\n",
       "            height=\"650\"\n",
       "            src=\"/tutorials/folium-plot.html\"\n",
       "            frameborder=\"0\"\n",
       "            allowfullscreen\n",
       "            \n",
       "        ></iframe>\n",
       "        "
      ],
      "text/plain": [
       "<IPython.lib.display.IFrame at 0x14ad2e3b0>"
      ]
     },
     "execution_count": 14,
     "metadata": {},
     "output_type": "execute_result"
    }
   ],
   "source": [
    "from IPython.display import IFrame\n",
    "IFrame('/tutorials/folium-plot.html', width=\"100%\", height=650)"
   ]
  },
  {
   "cell_type": "markdown",
   "id": "d6a71748-5949-41a3-a100-d71fb0534aac",
   "metadata": {},
   "source": [
    "## Plotapi\n",
    "\n",
    "[Plotapi (or PlotAPI)](https://plotapi.com) is a visualization package that's beautiful by default. It enables beautiful and interactive visualizations with just a single line of code."
   ]
  },
  {
   "cell_type": "code",
   "execution_count": 1,
   "id": "9ec3ce8f-bda0-4109-a36f-90313c7b2460",
   "metadata": {
    "tags": [
     "remove_cell"
    ]
   },
   "outputs": [],
   "source": [
    "plotapi_username = \"testing\"\n",
    "plotapi_license = \"TESTING-bbGg8LCsfJhSFd2M2xMv7QGBRTbnieQ7\""
   ]
  },
  {
   "cell_type": "code",
   "execution_count": 30,
   "id": "5dc49040-d319-4d4e-9de5-32e1531630b7",
   "metadata": {
    "tags": [
     "remove_all_output"
    ]
   },
   "outputs": [
    {
     "data": {
      "text/markdown": [
       "Report saved to ./plotapi-plot.html"
      ],
      "text/plain": [
       "<IPython.core.display.Markdown object>"
      ]
     },
     "metadata": {},
     "output_type": "display_data"
    }
   ],
   "source": [
    "import datapane as dp\n",
    "from plotapi import Chord\n",
    "\n",
    "Chord.set_license(plotapi_username, plotapi_license)\n",
    "\n",
    "matrix = [\n",
    "    [0, 5, 6, 4, 7, 4],\n",
    "    [5, 0, 5, 4, 6, 5],\n",
    "    [6, 5, 0, 4, 5, 5],\n",
    "    [4, 4, 4, 0, 5, 5],\n",
    "    [7, 6, 5, 5, 0, 4],\n",
    "    [4, 5, 5, 5, 4, 0],\n",
    "]\n",
    "\n",
    "names = [\"Action\", \"Adventure\", \"Comedy\", \"Drama\", \"Fantasy\", \"Thriller\"]\n",
    "\n",
    "fig = Chord(\n",
    "    matrix, names, label_colors_match=True, curved_labels=True, margin=40\n",
    ")\n",
    "\n",
    "dp.Report(dp.Plot(fig)).save(path=\"plotapi-plot.html\")"
   ]
  },
  {
   "cell_type": "code",
   "execution_count": 32,
   "id": "bfa81bdd-0fed-4047-b4ef-33b25e5a6402",
   "metadata": {
    "tags": [
     "remove_input"
    ]
   },
   "outputs": [
    {
     "data": {
      "text/html": [
       "\n",
       "        <iframe\n",
       "            width=\"100%\"\n",
       "            height=\"840\"\n",
       "            src=\"/tutorials/plotapi-plot.html\"\n",
       "            frameborder=\"0\"\n",
       "            allowfullscreen\n",
       "            \n",
       "        ></iframe>\n",
       "        "
      ],
      "text/plain": [
       "<IPython.lib.display.IFrame at 0x176727d60>"
      ]
     },
     "execution_count": 32,
     "metadata": {},
     "output_type": "execute_result"
    }
   ],
   "source": [
    "from IPython.display import IFrame\n",
    "IFrame('/tutorials/plotapi-plot.html', width=\"100%\", height=840)"
   ]
  }
 ],
 "metadata": {
  "kernelspec": {
   "display_name": "Python 3 (ipykernel)",
   "language": "python",
   "name": "python3"
  },
  "language_info": {
   "codemirror_mode": {
    "name": "ipython",
    "version": 3
   },
   "file_extension": ".py",
   "mimetype": "text/x-python",
   "name": "python",
   "nbconvert_exporter": "python",
   "pygments_lexer": "ipython3",
   "version": "3.10.4"
  }
 },
 "nbformat": 4,
 "nbformat_minor": 5
}
